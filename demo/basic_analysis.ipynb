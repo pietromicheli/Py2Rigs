{
 "cells": [
  {
   "cell_type": "markdown",
   "metadata": {},
   "source": [
    "# Basic analysis pipline for a single recording"
   ]
  },
  {
   "cell_type": "code",
   "execution_count": null,
   "metadata": {},
   "outputs": [],
   "source": [
    "from Py2Rigs.rec import Rec\n",
    "from Py2Rigs import sync,loader,plot\n",
    "from Py2Rigs import plot\n",
    "from matplotlib import pyplot as plt\n",
    "import os\n",
    "import shutil"
   ]
  },
  {
   "cell_type": "code",
   "execution_count": null,
   "metadata": {},
   "outputs": [],
   "source": [
    "%load_ext autoreload\n",
    "%autoreload 2"
   ]
  },
  {
   "cell_type": "markdown",
   "metadata": {},
   "source": [
    "Specify the paths for the data (see the Loader object for what type of data you can load), the sync and the stimulation sequence file and the behavioral data if needed."
   ]
  },
  {
   "cell_type": "code",
   "execution_count": null,
   "metadata": {},
   "outputs": [],
   "source": [
    "rec_folder = r\"test_data\\demo1\"\n",
    "\n",
    "datapath = rec_folder+r\"\\suite2p\\plane0\"\n",
    "syncfile = rec_folder+r\"\\rec_000_000.mat\"       \n",
    "stimdict = rec_folder+r\"\\stim_dict_PM_230224_OBO041194_000.json\"\n",
    "data_behav = rec_folder+r\"\\contra_pupil_000.npy\"\n",
    "\n",
    "# indicate how to decode the name of the trial types from the stimulation sequence file\n",
    "trials_names = {0:\"IPSI\",1:\"CONTRA\",2:\"BOTH\"}"
   ]
  },
  {
   "cell_type": "code",
   "execution_count": null,
   "metadata": {},
   "outputs": [],
   "source": [
    "# create a Dataloader instance\n",
    "dataloader = loader.Dataloader()\n",
    "# load the syn\n",
    "dataloader.load_sync(syncfile,stimdict,trials_names)\n",
    "# load the neural data from a suite2p directory\n",
    "dataloader.load_s2p_dir(datapath)\n",
    "# load the behavioral data\n",
    "dataloader.load_behav(data_behav, data_name='pupil_size')"
   ]
  },
  {
   "cell_type": "markdown",
   "metadata": {},
   "source": [
    "Extract the data and save them in a h5 file"
   ]
  },
  {
   "cell_type": "code",
   "execution_count": null,
   "metadata": {},
   "outputs": [],
   "source": [
    "# create a rec instance by feeding the the dataloader\n",
    "rec = Rec(dataloader)\n",
    "# extract the data\n",
    "cells = rec.extract_all(save_hdf5_filename='demo1_extracted_data')"
   ]
  },
  {
   "cell_type": "code",
   "execution_count": null,
   "metadata": {},
   "outputs": [],
   "source": [
    "# load pre-extracted data\n",
    "\n",
    "ld = loader.Dataloader().load_from_5h('demo1_extracted_data.hdf5')\n",
    "rec_ = Rec(ld)"
   ]
  },
  {
   "cell_type": "code",
   "execution_count": null,
   "metadata": {},
   "outputs": [],
   "source": [
    "pops = rec_.get_populations(list(rec_.cells.keys()),k=2)"
   ]
  },
  {
   "cell_type": "code",
   "execution_count": null,
   "metadata": {},
   "outputs": [],
   "source": [
    "import h5py\n",
    "\n",
    "with h5py.File('demo1_extracted_data.hdf5', \"r\") as h5file:\n",
    "    print(h5file['cells']['1'].keys())"
   ]
  }
 ],
 "metadata": {
  "kernelspec": {
   "display_name": "base",
   "language": "python",
   "name": "python3"
  },
  "language_info": {
   "codemirror_mode": {
    "name": "ipython",
    "version": 3
   },
   "file_extension": ".py",
   "mimetype": "text/x-python",
   "name": "python",
   "nbconvert_exporter": "python",
   "pygments_lexer": "ipython3",
   "version": "3.9.13"
  },
  "orig_nbformat": 4,
  "vscode": {
   "interpreter": {
    "hash": "05433875f088bd09ac05dbd7e52f3fcfa5e9806576631043fcc8eedb322def6b"
   }
  }
 },
 "nbformat": 4,
 "nbformat_minor": 2
}
